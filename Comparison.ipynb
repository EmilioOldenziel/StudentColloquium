{
 "cells": [
  {
   "cell_type": "code",
   "execution_count": 135,
   "metadata": {
    "collapsed": true
   },
   "outputs": [],
   "source": [
    "import pandas as pd\n",
    "import numpy as np\n",
    "from sklearn.ensemble import AdaBoostClassifier, RandomForestClassifier\n",
    "from sklearn.datasets import load_breast_cancer\n",
    "from sklearn.tree import DecisionTreeClassifier\n",
    "from sklearn.model_selection import train_test_split\n",
    "from sklearn.metrics import zero_one_loss\n",
    "import matplotlib.pyplot as plt\n",
    "from progressbar import log_progress"
   ]
  },
  {
   "cell_type": "markdown",
   "metadata": {},
   "source": [
    "# Load datasets"
   ]
  },
  {
   "cell_type": "markdown",
   "metadata": {},
   "source": [
    "### Breast Cancer"
   ]
  },
  {
   "cell_type": "code",
   "execution_count": 136,
   "metadata": {
    "collapsed": true
   },
   "outputs": [],
   "source": [
    "dataset = load_breast_cancer()"
   ]
  },
  {
   "cell_type": "code",
   "execution_count": 137,
   "metadata": {
    "collapsed": true
   },
   "outputs": [],
   "source": [
    "df_x_bc = pd.DataFrame(dataset['data'], columns = dataset['feature_names']) #samples (539 vectors)"
   ]
  },
  {
   "cell_type": "code",
   "execution_count": 138,
   "metadata": {
    "collapsed": true
   },
   "outputs": [],
   "source": [
    "df_y_bc = dataset['target'] # labels (539 labels 1 == maniglent, 0 == benign)"
   ]
  },
  {
   "cell_type": "markdown",
   "metadata": {},
   "source": [
    "### Phoneme"
   ]
  },
  {
   "cell_type": "code",
   "execution_count": 155,
   "metadata": {
    "collapsed": true
   },
   "outputs": [],
   "source": [
    "df_phoneme = pd.read_csv(\"./datasets/phoneme.dat/data\", sep=\"\\s+\", header=None)"
   ]
  },
  {
   "cell_type": "code",
   "execution_count": 156,
   "metadata": {
    "collapsed": true
   },
   "outputs": [],
   "source": [
    "df_x_phoneme = df_phoneme.iloc[:,0:5]"
   ]
  },
  {
   "cell_type": "code",
   "execution_count": 157,
   "metadata": {
    "collapsed": true
   },
   "outputs": [],
   "source": [
    "df_y_phoneme = np.ravel(df_phoneme.iloc[:,5:6])"
   ]
  },
  {
   "cell_type": "markdown",
   "metadata": {},
   "source": [
    "## choose Dataset"
   ]
  },
  {
   "cell_type": "code",
   "execution_count": 158,
   "metadata": {
    "collapsed": true
   },
   "outputs": [],
   "source": [
    "dataset = \"phoneme\""
   ]
  },
  {
   "cell_type": "code",
   "execution_count": 159,
   "metadata": {
    "collapsed": true
   },
   "outputs": [],
   "source": [
    "if dataset == \"phoneme\":\n",
    "    df_x = df_x_phoneme\n",
    "    df_y = df_y_phoneme\n",
    "if dataset == \"breastcancer\":\n",
    "    df_x = df_x_bc\n",
    "    df_y = df_y_bc"
   ]
  },
  {
   "cell_type": "markdown",
   "metadata": {},
   "source": [
    "# Initialize Parameters"
   ]
  },
  {
   "cell_type": "code",
   "execution_count": 160,
   "metadata": {
    "collapsed": true
   },
   "outputs": [],
   "source": [
    "n_estimators = 250 # boosting iterations\n",
    "max_depth = 8\n",
    "procent_noise = 5\n",
    "n_flips = round(len(df_y) * (procent_noise/100)) # number of label filps for 2% noise\n",
    "number_of_rounds = 10 # 100 for real experiment\n",
    "\n",
    "ada_err_test = np.zeros((number_of_rounds,n_estimators))\n",
    "ada_err_train = np.zeros((number_of_rounds,n_estimators))\n",
    "\n",
    "rf_err_test = np.zeros((number_of_rounds,n_estimators))\n",
    "rf_err_train = np.zeros((number_of_rounds,n_estimators))"
   ]
  },
  {
   "cell_type": "markdown",
   "metadata": {},
   "source": [
    "# Choose Datset and Add noise"
   ]
  },
  {
   "cell_type": "code",
   "execution_count": 161,
   "metadata": {},
   "outputs": [],
   "source": [
    "a = np.arange(len(df_y))\n",
    "np.random.shuffle(a)\n",
    "for idx in a[:n_flips]: # apply noise\n",
    "    df_y[idx] = abs(df_y[idx]-1)"
   ]
  },
  {
   "cell_type": "markdown",
   "metadata": {},
   "source": [
    "# Run Classifiers"
   ]
  },
  {
   "cell_type": "markdown",
   "metadata": {},
   "source": [
    "## Adaboost"
   ]
  },
  {
   "cell_type": "code",
   "execution_count": 162,
   "metadata": {
    "scrolled": false
   },
   "outputs": [
    {
     "data": {
      "application/vnd.jupyter.widget-view+json": {
       "model_id": "56a40ed27570421cb842514fcdd5ea41",
       "version_major": 2,
       "version_minor": 0
      },
      "text/html": [
       "<p>Failed to display Jupyter Widget of type <code>VBox</code>.</p>\n",
       "<p>\n",
       "  If you're reading this message in the Jupyter Notebook or JupyterLab Notebook, it may mean\n",
       "  that the widgets JavaScript is still loading. If this message persists, it\n",
       "  likely means that the widgets JavaScript library is either not installed or\n",
       "  not enabled. See the <a href=\"https://ipywidgets.readthedocs.io/en/stable/user_install.html\">Jupyter\n",
       "  Widgets Documentation</a> for setup instructions.\n",
       "</p>\n",
       "<p>\n",
       "  If you're reading this message in another frontend (for example, a static\n",
       "  rendering on GitHub or <a href=\"https://nbviewer.jupyter.org/\">NBViewer</a>),\n",
       "  it may mean that your frontend doesn't currently support widgets.\n",
       "</p>\n"
      ],
      "text/plain": [
       "VBox(children=(HTML(value=''), IntProgress(value=0, max=10)))"
      ]
     },
     "metadata": {},
     "output_type": "display_data"
    }
   ],
   "source": [
    "for r in log_progress(range(number_of_rounds), every=1): # number of train/test split rounds. \n",
    "    ada = AdaBoostClassifier(DecisionTreeClassifier(max_depth=max_depth),\n",
    "        n_estimators=n_estimators,\n",
    "        algorithm=\"SAMME.R\") # init AdaBoost\n",
    "    \n",
    "    X_train, X_test, Y_train, Y_test = train_test_split(df_x, df_y, test_size=0.3) # split to train/test set (0.7, 0.3)\n",
    "    \n",
    "    ada.fit(X_train, Y_train) # train the classifier\n",
    "    \n",
    "    for i, y_pred in enumerate(ada.staged_predict(X_test)):\n",
    "        ada_err_test[r][i] = zero_one_loss(y_pred, Y_test) # validate boosting rounds with test set\n",
    "\n",
    "    \n",
    "    for i, y_pred in enumerate(ada.staged_predict(X_train)):\n",
    "        ada_err_train[r][i] = zero_one_loss(y_pred, Y_train) # validate boosting rounds with train set"
   ]
  },
  {
   "cell_type": "markdown",
   "metadata": {},
   "source": [
    "## Randomforest"
   ]
  },
  {
   "cell_type": "code",
   "execution_count": 163,
   "metadata": {},
   "outputs": [
    {
     "data": {
      "application/vnd.jupyter.widget-view+json": {
       "model_id": "054b3a3bebb64389a52f75fb7231a469",
       "version_major": 2,
       "version_minor": 0
      },
      "text/html": [
       "<p>Failed to display Jupyter Widget of type <code>VBox</code>.</p>\n",
       "<p>\n",
       "  If you're reading this message in the Jupyter Notebook or JupyterLab Notebook, it may mean\n",
       "  that the widgets JavaScript is still loading. If this message persists, it\n",
       "  likely means that the widgets JavaScript library is either not installed or\n",
       "  not enabled. See the <a href=\"https://ipywidgets.readthedocs.io/en/stable/user_install.html\">Jupyter\n",
       "  Widgets Documentation</a> for setup instructions.\n",
       "</p>\n",
       "<p>\n",
       "  If you're reading this message in another frontend (for example, a static\n",
       "  rendering on GitHub or <a href=\"https://nbviewer.jupyter.org/\">NBViewer</a>),\n",
       "  it may mean that your frontend doesn't currently support widgets.\n",
       "</p>\n"
      ],
      "text/plain": [
       "VBox(children=(HTML(value=''), IntProgress(value=0, max=10)))"
      ]
     },
     "metadata": {},
     "output_type": "display_data"
    }
   ],
   "source": [
    "for r in log_progress(range(number_of_rounds), every=1): # number of train/test split rounds. \n",
    "    X_train, X_test, Y_train, Y_test = train_test_split(df_x, df_y, test_size=0.3) # split to train/test set (0.7, 0.3)\n",
    "    for i in range(1, n_estimators+1):\n",
    "        rf = RandomForestClassifier(max_depth=None, n_estimators=i) # init RandomForests\n",
    "\n",
    "        rf.fit(X_train, Y_train) # train the classifier\n",
    "\n",
    "        rf_err_test[r][i-1] = zero_one_loss(rf.predict(X_test), Y_test)\n",
    "        rf_err_train[r][i-1] = zero_one_loss(rf.predict(X_train), Y_train)"
   ]
  },
  {
   "cell_type": "markdown",
   "metadata": {},
   "source": [
    "\n",
    "# Plot validation"
   ]
  },
  {
   "cell_type": "code",
   "execution_count": 164,
   "metadata": {},
   "outputs": [
    {
     "data": {
      "image/png": "[encoded data removed]",
      "text/plain": [
       "<matplotlib.figure.Figure at 0x7f07a9248470>"
      ]
     },
     "metadata": {},
     "output_type": "display_data"
    }
   ],
   "source": [
    "fig = plt.figure(figsize=(8, 6))\n",
    "plt.plot(ada_err_train.mean(axis=0), label=\"AdaBoost training error\", color=\"red\")\n",
    "plt.plot(ada_err_test.mean(axis=0), label=\"AdaBoost test error\", color=\"black\")\n",
    "plt.plot(rf_err_train.mean(axis=0), label=\"Random Forrest training error\", color=\"orange\")\n",
    "plt.plot(rf_err_test.mean(axis=0), label=\"Random Forrest test error\", color=\"green\")\n",
    "plt.ylabel(\"error rate\")\n",
    "plt.xlabel(\"boosting interations\")\n",
    "plt.title(f\"Validation {dataset} dataset\")\n",
    "plt.legend()#loc='lower right', bbox_to_anchor=(1, 0.2))\n",
    "plt.show()\n",
    "#fig.savefig(f\"results/{dataset}_{procent_noise}percent_noise.png\", dpi=fig.dpi)"
   ]
  },
  {
   "cell_type": "code",
   "execution_count": 165,
   "metadata": {},
   "outputs": [
    {
     "name": "stdout",
     "output_type": "stream",
     "text": [
      "test error AdaBoost @ 10% noise: 0.217324290998767\n",
      "test error random forests @ 10% noise: 0.19364981504315662\n"
     ]
    }
   ],
   "source": [
    "print(f\"test error AdaBoost @ {procent_noise}% noise: {ada_err_test.mean(axis=0)[-1]}\")\n",
    "print(f\"test error random forests @ {procent_noise}% noise: {rf_err_test.mean(axis=0)[-1]}\")"
   ]
  },
  {
   "cell_type": "code",
   "execution_count": 170,
   "metadata": {},
   "outputs": [
    {
     "name": "stdout",
     "output_type": "stream",
     "text": [
      "average rf tree depth: 25.092\n"
     ]
    }
   ],
   "source": [
    "print(f\"average rf tree depth: {np.mean([estimator.tree_.max_depth for estimator in rf.estimators_])}\")"
   ]
  },
  {
   "cell_type": "code",
   "execution_count": null,
   "metadata": {
    "collapsed": true
   },
   "outputs": [],
   "source": []
  }
 ],
 "metadata": {
  "kernelspec": {
   "display_name": "Python 3",
   "language": "python",
   "name": "python3"
  },
  "language_info": {
   "codemirror_mode": {
    "name": "ipython",
    "version": 3
   },
   "file_extension": ".py",
   "mimetype": "text/x-python",
   "name": "python",
   "nbconvert_exporter": "python",
   "pygments_lexer": "ipython3",
   "version": "3.6.4"
  }
 },
 "nbformat": 4,
 "nbformat_minor": 2
}
